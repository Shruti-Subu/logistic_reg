{
  "nbformat": 4,
  "nbformat_minor": 0,
  "metadata": {
    "colab": {
      "name": "Untitled6.ipynb",
      "provenance": [],
      "authorship_tag": "ABX9TyNlrHfDPlV8TQseswEkb9Jp",
      "include_colab_link": true
    },
    "kernelspec": {
      "name": "python3",
      "display_name": "Python 3"
    },
    "language_info": {
      "name": "python"
    }
  },
  "cells": [
    {
      "cell_type": "markdown",
      "metadata": {
        "id": "view-in-github",
        "colab_type": "text"
      },
      "source": [
        "<a href=\"https://colab.research.google.com/github/Shruti-Subu/logistic_reg/blob/main/Untitled6.ipynb\" target=\"_parent\"><img src=\"https://colab.research.google.com/assets/colab-badge.svg\" alt=\"Open In Colab\"/></a>"
      ]
    },
    {
      "cell_type": "code",
      "metadata": {
        "id": "kioOGhRmxuwA"
      },
      "source": [
        "import torch\n",
        "import torchvision\n",
        "from  torchvision.datasets import MNIST"
      ],
      "execution_count": 79,
      "outputs": []
    },
    {
      "cell_type": "code",
      "metadata": {
        "id": "M4a4UeBCx9d9"
      },
      "source": [
        "dataset=MNIST(root='data/' ,download=True)"
      ],
      "execution_count": 80,
      "outputs": []
    },
    {
      "cell_type": "code",
      "metadata": {
        "colab": {
          "base_uri": "https://localhost:8080/"
        },
        "id": "iLLDUm-zyeWu",
        "outputId": "f06e051a-e10e-461a-94df-628d1d96ee04"
      },
      "source": [
        "len(dataset)"
      ],
      "execution_count": 81,
      "outputs": [
        {
          "output_type": "execute_result",
          "data": {
            "text/plain": [
              "60000"
            ]
          },
          "metadata": {
            "tags": []
          },
          "execution_count": 81
        }
      ]
    },
    {
      "cell_type": "code",
      "metadata": {
        "colab": {
          "base_uri": "https://localhost:8080/"
        },
        "id": "WCoMire9yRQl",
        "outputId": "cfb59ed0-41f4-4150-d858-108b66784aa3"
      },
      "source": [
        "test_dataset=MNIST(root='data/',train=False)\n",
        "len(test_dataset)"
      ],
      "execution_count": 82,
      "outputs": [
        {
          "output_type": "execute_result",
          "data": {
            "text/plain": [
              "10000"
            ]
          },
          "metadata": {
            "tags": []
          },
          "execution_count": 82
        }
      ]
    },
    {
      "cell_type": "code",
      "metadata": {
        "colab": {
          "base_uri": "https://localhost:8080/"
        },
        "id": "mEEZWJILy-8d",
        "outputId": "6ee59e21-cbf6-46b8-d20e-2aea96f9c521"
      },
      "source": [
        "dataset[0]"
      ],
      "execution_count": 83,
      "outputs": [
        {
          "output_type": "execute_result",
          "data": {
            "text/plain": [
              "(<PIL.Image.Image image mode=L size=28x28 at 0x7F6DA7799AD0>, 5)"
            ]
          },
          "metadata": {
            "tags": []
          },
          "execution_count": 83
        }
      ]
    },
    {
      "cell_type": "code",
      "metadata": {
        "id": "GmGEh85ozAnE"
      },
      "source": [
        "import matplotlib.pyplot as plt\n",
        "%matplotlib inline"
      ],
      "execution_count": 84,
      "outputs": []
    },
    {
      "cell_type": "code",
      "metadata": {
        "colab": {
          "base_uri": "https://localhost:8080/",
          "height": 282
        },
        "id": "8CrNQBdZzR_Y",
        "outputId": "e727da2a-8f6f-4618-cf46-e3d89832be7d"
      },
      "source": [
        "image,label=dataset[0]\n",
        "plt.imshow(image,cmap='gray')\n",
        "print('Label: ',label)"
      ],
      "execution_count": 85,
      "outputs": [
        {
          "output_type": "stream",
          "text": [
            "Label:  5\n"
          ],
          "name": "stdout"
        },
        {
          "output_type": "display_data",
          "data": {
            "image/png": "[encoded data removed]",
            "text/plain": [
              "<Figure size 432x288 with 1 Axes>"
            ]
          },
          "metadata": {
            "tags": [],
            "needs_background": "light"
          }
        }
      ]
    },
    {
      "cell_type": "code",
      "metadata": {
        "id": "Z2HKQHtLzkxC"
      },
      "source": [
        "import torchvision.transforms as transforms"
      ],
      "execution_count": 86,
      "outputs": []
    },
    {
      "cell_type": "code",
      "metadata": {
        "id": "AR0xjdV4zr7H"
      },
      "source": [
        "dataset=MNIST(\n",
        "    root='data/',\n",
        "    train=True,\n",
        "    transform=transforms.ToTensor()\n",
        ")"
      ],
      "execution_count": 87,
      "outputs": []
    },
    {
      "cell_type": "code",
      "metadata": {
        "colab": {
          "base_uri": "https://localhost:8080/"
        },
        "id": "5dkEJefO0CPZ",
        "outputId": "40b95d08-56dc-41ba-c71b-e7d18e8294d8"
      },
      "source": [
        "img_tnr,label=dataset[0]\n",
        "print(img_tnr.shape,label)"
      ],
      "execution_count": 88,
      "outputs": [
        {
          "output_type": "stream",
          "text": [
            "torch.Size([1, 28, 28]) 5\n"
          ],
          "name": "stdout"
        }
      ]
    },
    {
      "cell_type": "markdown",
      "metadata": {
        "id": "aV_Hhkjr04Mq"
      },
      "source": [
        "**TRAINING AND VALIDATION**"
      ]
    },
    {
      "cell_type": "code",
      "metadata": {
        "id": "4zrf5ONm0IuY"
      },
      "source": [
        "import numpy as np\n",
        "def split_dataset(data,n):\n",
        "  n_val=int(data*n)\n",
        "  idxs=np.random.permutation(data)\n",
        "  #pick first n for validation \n",
        "  return idxs[n_val:],idxs[:n_val]"
      ],
      "execution_count": 89,
      "outputs": []
    },
    {
      "cell_type": "code",
      "metadata": {
        "id": "qjs3i5yS1rWL"
      },
      "source": [
        "train_indices,val_indices=split_dataset(len(dataset),0.2)"
      ],
      "execution_count": 90,
      "outputs": []
    },
    {
      "cell_type": "code",
      "metadata": {
        "colab": {
          "base_uri": "https://localhost:8080/"
        },
        "id": "sKdCw5-e2Gr_",
        "outputId": "3c0a45ff-37d2-4b07-aad6-7753d65e18c7"
      },
      "source": [
        "print(len(train_indices),len(val_indices))"
      ],
      "execution_count": 91,
      "outputs": [
        {
          "output_type": "stream",
          "text": [
            "48000 12000\n"
          ],
          "name": "stdout"
        }
      ]
    },
    {
      "cell_type": "code",
      "metadata": {
        "id": "1esm90ux2gmr"
      },
      "source": [
        "from torch.utils.data.sampler import SubsetRandomSampler\n",
        "from torch.utils.data.dataloader import DataLoader"
      ],
      "execution_count": 92,
      "outputs": []
    },
    {
      "cell_type": "code",
      "metadata": {
        "id": "r3qn_EQi3cHx"
      },
      "source": [
        "batch_size=100\n",
        "train_sampler=SubsetRandomSampler(train_indices)\n",
        "train_loader=DataLoader(dataset,\n",
        "                        batch_size,\n",
        "                        sampler=train_sampler)\n",
        "val_sampler=SubsetRandomSampler(val_indices)\n",
        "val_loader=DataLoader(dataset,\n",
        "                        batch_size,\n",
        "                        sampler=val_sampler)\n"
      ],
      "execution_count": 93,
      "outputs": []
    },
    {
      "cell_type": "markdown",
      "metadata": {
        "id": "ML8iD0nv4P0X"
      },
      "source": [
        "**MODEL**"
      ]
    },
    {
      "cell_type": "code",
      "metadata": {
        "id": "sHRtSJCD4LiJ"
      },
      "source": [
        "import torch.nn as nn\n",
        "input_size=28*28\n",
        "num_classes=10\n",
        "model=nn.Linear(input_size,num_classes)"
      ],
      "execution_count": 94,
      "outputs": []
    },
    {
      "cell_type": "code",
      "metadata": {
        "colab": {
          "base_uri": "https://localhost:8080/"
        },
        "id": "7zkTz9085ZTq",
        "outputId": "62180a42-3b2d-40ed-80e0-cef2ef3d8bc9"
      },
      "source": [
        "print(model.weight.shape)\n",
        "print(model.bias.shape)"
      ],
      "execution_count": 95,
      "outputs": [
        {
          "output_type": "stream",
          "text": [
            "torch.Size([10, 784])\n",
            "torch.Size([10])\n"
          ],
          "name": "stdout"
        }
      ]
    },
    {
      "cell_type": "code",
      "metadata": {
        "id": "bf-8AsHH6G2-"
      },
      "source": [
        "class MNISTModel(nn.Module):\n",
        "  def __init__(self):\n",
        "    super().__init__()\n",
        "    self.linear=nn.Linear(input_size,num_classes)\n",
        "  def forward(self,xb):\n",
        "    xb=xb.reshape(-1,784)\n",
        "    out=self.linear(xb)\n",
        "    return out\n",
        "model=MNISTModel()"
      ],
      "execution_count": 96,
      "outputs": []
    },
    {
      "cell_type": "code",
      "metadata": {
        "colab": {
          "base_uri": "https://localhost:8080/"
        },
        "id": "bzPoB0uS7QwJ",
        "outputId": "e81b7737-9a30-48db-e601-923fe50a4760"
      },
      "source": [
        "print(model.linear.weight.shape)"
      ],
      "execution_count": 97,
      "outputs": [
        {
          "output_type": "stream",
          "text": [
            "torch.Size([10, 784])\n"
          ],
          "name": "stdout"
        }
      ]
    },
    {
      "cell_type": "code",
      "metadata": {
        "colab": {
          "base_uri": "https://localhost:8080/"
        },
        "id": "48HKY_J_8Ezd",
        "outputId": "310f8103-0312-4637-9aff-8399ca47ea27"
      },
      "source": [
        "for image,label in train_loader:\n",
        "  out=model(image)\n",
        "  break\n",
        "print(out.shape)\n",
        "print(out[:2].data)"
      ],
      "execution_count": 98,
      "outputs": [
        {
          "output_type": "stream",
          "text": [
            "torch.Size([100, 10])\n",
            "tensor([[-0.0770, -0.1515, -0.1140,  0.0118,  0.0980,  0.0894, -0.1382,  0.0579,\n",
            "          0.0918, -0.0350],\n",
            "        [ 0.0326, -0.0077, -0.0603, -0.2601,  0.0690, -0.0320, -0.2665,  0.0275,\n",
            "          0.0758,  0.3488]])\n"
          ],
          "name": "stdout"
        }
      ]
    },
    {
      "cell_type": "code",
      "metadata": {
        "id": "U5ZYlg6W8Tgw"
      },
      "source": [
        "import torch.nn.functional as f"
      ],
      "execution_count": 99,
      "outputs": []
    },
    {
      "cell_type": "code",
      "metadata": {
        "colab": {
          "base_uri": "https://localhost:8080/"
        },
        "id": "P4W7e6io84f8",
        "outputId": "3dfc3a28-2bd0-4147-affd-02720dc3951f"
      },
      "source": [
        "probs=f.softmax(out,dim=1)\n",
        "print(\"Sample probs: \",probs[:2].data)"
      ],
      "execution_count": 100,
      "outputs": [
        {
          "output_type": "stream",
          "text": [
            "Sample probs:  tensor([[0.0937, 0.0870, 0.0903, 0.1024, 0.1117, 0.1107, 0.0882, 0.1073, 0.1110,\n",
            "         0.0977],\n",
            "        [0.1026, 0.0986, 0.0935, 0.0766, 0.1064, 0.0962, 0.0761, 0.1021, 0.1071,\n",
            "         0.1408]])\n"
          ],
          "name": "stdout"
        }
      ]
    },
    {
      "cell_type": "code",
      "metadata": {
        "colab": {
          "base_uri": "https://localhost:8080/"
        },
        "id": "wnfEr4It87uR",
        "outputId": "eac9e1b1-92ed-4370-d802-bf661878d133"
      },
      "source": [
        "print(torch.sum(probs[:1]).item())"
      ],
      "execution_count": 101,
      "outputs": [
        {
          "output_type": "stream",
          "text": [
            "1.0\n"
          ],
          "name": "stdout"
        }
      ]
    },
    {
      "cell_type": "code",
      "metadata": {
        "colab": {
          "base_uri": "https://localhost:8080/"
        },
        "id": "4rTUOnB_9KKG",
        "outputId": "b330ec5e-cce9-4a73-9b5f-b28d1b98dd6a"
      },
      "source": [
        "max_probs,pred=torch.max(probs,dim=1)\n",
        "print(pred)\n",
        "print(max_probs)"
      ],
      "execution_count": 102,
      "outputs": [
        {
          "output_type": "stream",
          "text": [
            "tensor([4, 9, 9, 9, 5, 8, 2, 1, 2, 4, 9, 5, 4, 9, 6, 8, 4, 5, 1, 9, 2, 5, 9, 5,\n",
            "        8, 7, 9, 5, 4, 7, 6, 4, 2, 9, 7, 9, 6, 0, 8, 5, 7, 5, 6, 0, 6, 9, 4, 4,\n",
            "        7, 9, 9, 1, 1, 1, 9, 6, 5, 5, 8, 5, 9, 9, 9, 2, 0, 5, 9, 9, 4, 6, 6, 5,\n",
            "        7, 5, 5, 6, 7, 9, 9, 4, 9, 6, 6, 5, 9, 4, 8, 6, 9, 2, 9, 2, 9, 4, 2, 9,\n",
            "        9, 8, 6, 9])\n",
            "tensor([0.1117, 0.1408, 0.1360, 0.1131, 0.1161, 0.1400, 0.1279, 0.1163, 0.1304,\n",
            "        0.1183, 0.1244, 0.1251, 0.1483, 0.1310, 0.1279, 0.1322, 0.1150, 0.1223,\n",
            "        0.1237, 0.1305, 0.1201, 0.1287, 0.1112, 0.1290, 0.1327, 0.1331, 0.1296,\n",
            "        0.1399, 0.1129, 0.1436, 0.1127, 0.1257, 0.1219, 0.1274, 0.1116, 0.1230,\n",
            "        0.1226, 0.1207, 0.1206, 0.1375, 0.1375, 0.1172, 0.1331, 0.1145, 0.1203,\n",
            "        0.1304, 0.1256, 0.1249, 0.1502, 0.1251, 0.1173, 0.1086, 0.1286, 0.1273,\n",
            "        0.1157, 0.1245, 0.1181, 0.1229, 0.1311, 0.1160, 0.1385, 0.1241, 0.1276,\n",
            "        0.1241, 0.1399, 0.1297, 0.1254, 0.1506, 0.1183, 0.1244, 0.1182, 0.1270,\n",
            "        0.1301, 0.1201, 0.1222, 0.1305, 0.1206, 0.1204, 0.1296, 0.1119, 0.1233,\n",
            "        0.1127, 0.1325, 0.1289, 0.1415, 0.1215, 0.1153, 0.1094, 0.1390, 0.1190,\n",
            "        0.1253, 0.1200, 0.1338, 0.1407, 0.1246, 0.1311, 0.1476, 0.1227, 0.1147,\n",
            "        0.1296], grad_fn=<MaxBackward0>)\n"
          ],
          "name": "stdout"
        }
      ]
    },
    {
      "cell_type": "code",
      "metadata": {
        "colab": {
          "base_uri": "https://localhost:8080/"
        },
        "id": "FLPDGny59cpd",
        "outputId": "cc77120c-de50-4b16-a319-110a6478b7c2"
      },
      "source": [
        "labels"
      ],
      "execution_count": 103,
      "outputs": [
        {
          "output_type": "execute_result",
          "data": {
            "text/plain": [
              "tensor([0, 3, 6, 3, 1, 3, 9, 0, 7, 4, 7, 1, 7, 8, 1, 6, 9, 9, 9, 0, 3, 3, 6, 4,\n",
              "        5, 6, 4, 5, 8, 9, 9, 2, 3, 5, 0, 6, 9, 3, 0, 9, 8, 6, 2, 2, 4, 5, 4, 4,\n",
              "        5, 3, 7, 9, 0, 8, 0, 5, 6, 8, 5, 9, 8, 6, 3, 9, 7, 5, 9, 8, 3, 1, 1, 1,\n",
              "        4, 9, 0, 2, 1, 9, 7, 7, 3, 2, 9, 7, 3, 6, 6, 1, 4, 0, 2, 1, 2, 5, 6, 2,\n",
              "        7, 9, 4, 9])"
            ]
          },
          "metadata": {
            "tags": []
          },
          "execution_count": 103
        }
      ]
    },
    {
      "cell_type": "markdown",
      "metadata": {
        "id": "h4RkXvhj9weO"
      },
      "source": [
        "**EVALUATION METRIC AND LOSS FUNCTION**"
      ]
    },
    {
      "cell_type": "code",
      "metadata": {
        "id": "e66eASXV-I0R"
      },
      "source": [
        ""
      ],
      "execution_count": 103,
      "outputs": []
    },
    {
      "cell_type": "code",
      "metadata": {
        "id": "kBRbnWU19g3R"
      },
      "source": [
        "def  accuracy(a,b):\n",
        "  return (torch.sum(a==b).item())/len(a)\n"
      ],
      "execution_count": 104,
      "outputs": []
    },
    {
      "cell_type": "code",
      "metadata": {
        "colab": {
          "base_uri": "https://localhost:8080/"
        },
        "id": "wjkqR166-MXB",
        "outputId": "6f042180-d2fb-4e41-d328-a53360789364"
      },
      "source": [
        "acc=accuracy(pred,labels)\n",
        "print(acc)"
      ],
      "execution_count": 105,
      "outputs": [
        {
          "output_type": "stream",
          "text": [
            "0.08\n"
          ],
          "name": "stdout"
        }
      ]
    },
    {
      "cell_type": "code",
      "metadata": {
        "id": "xTZ8NCSh-lVn"
      },
      "source": [
        "loss_fn=f.cross_entropy"
      ],
      "execution_count": 106,
      "outputs": []
    },
    {
      "cell_type": "code",
      "metadata": {
        "colab": {
          "base_uri": "https://localhost:8080/"
        },
        "id": "lYXBAzit_nT5",
        "outputId": "1731ec40-f853-4f0e-a97f-a8d38b6a4c8d"
      },
      "source": [
        "loss=loss_fn(out,labels)\n",
        "print(loss)"
      ],
      "execution_count": 107,
      "outputs": [
        {
          "output_type": "stream",
          "text": [
            "tensor(2.3214, grad_fn=<NllLossBackward>)\n"
          ],
          "name": "stdout"
        }
      ]
    },
    {
      "cell_type": "markdown",
      "metadata": {
        "id": "VwgzPAI_AClg"
      },
      "source": [
        "**OPTIMIZER**"
      ]
    },
    {
      "cell_type": "code",
      "metadata": {
        "id": "-DrwOmDp_1Z2"
      },
      "source": [
        "learning_rate=0.001\n",
        "optimizer=torch.optim.SGD(model.parameters(),lr=learning_rate)"
      ],
      "execution_count": 108,
      "outputs": []
    },
    {
      "cell_type": "markdown",
      "metadata": {
        "id": "XUj8x2TcAdnA"
      },
      "source": [
        "**TRAINING MODEL**"
      ]
    },
    {
      "cell_type": "code",
      "metadata": {
        "id": "KQaRQHbQAWJU"
      },
      "source": [
        "def loss_batch(model,loss_func,xb,yb,opt=None,metric=None):\n",
        "  pred=model(xb)\n",
        "  loss=loss_func(pred,yb)\n",
        "\n",
        "  if opt is not None:\n",
        "    loss.backward()\n",
        "    #update parameters\n",
        "    opt.step()\n",
        "    #reset grad\n",
        "    opt.zero_grad()\n",
        "\n",
        "  metric_res=None\n",
        "  if metric is not None:\n",
        "    metric_res=metric(pred,yb)\n",
        "  return loss.item(),len(xb),metric_res"
      ],
      "execution_count": 138,
      "outputs": []
    },
    {
      "cell_type": "code",
      "metadata": {
        "id": "aO3Stg_jByT8"
      },
      "source": [
        "def evaluate(model,loss_fn,valid_dl,metric=None):\n",
        "  with torch.no_grad():\n",
        "    res=[loss_batch(model,loss_fn,xb,yb,metric=metric)\n",
        "                for xb,yb in valid_dl]\n",
        "    losses,nums,metrics=zip(*res)\n",
        "    total=np.sum(nums)\n",
        "    #avg losses across batches\n",
        "    avg_loss=np.sum(np.multiply(losses,nums))/total\n",
        "    avg_metric=None\n",
        "    if metric is not None:\n",
        "      avg_metric=np.sum(np.multiply(metrics,nums))/total\n",
        "  return avg_loss,total,avg_metric"
      ],
      "execution_count": 139,
      "outputs": []
    },
    {
      "cell_type": "code",
      "metadata": {
        "id": "TtHBzblKDUDJ"
      },
      "source": [
        "def accuracy(outputs,label):\n",
        "  _,pred=torch.max(outputs,dim=1)\n",
        "  return torch.sum(pred==label).item()/len(pred)"
      ],
      "execution_count": 140,
      "outputs": []
    },
    {
      "cell_type": "code",
      "metadata": {
        "colab": {
          "base_uri": "https://localhost:8080/"
        },
        "id": "0gRfkHgkEH2x",
        "outputId": "32c3fe0c-0284-4107-d469-8447722b4ba1"
      },
      "source": [
        "val_loss,total,val_acc=evaluate(model,loss_fn,val_loader,metric=accuracy)\n",
        "print(\"Loss : {:.4f},Accuracy: {: .4f}\".format(val_loss,val_acc))"
      ],
      "execution_count": 141,
      "outputs": [
        {
          "output_type": "stream",
          "text": [
            "Loss : 0.6162,Accuracy:  0.8602\n"
          ],
          "name": "stdout"
        }
      ]
    },
    {
      "cell_type": "code",
      "metadata": {
        "id": "I6ABz115IWtA"
      },
      "source": [
        ""
      ],
      "execution_count": 112,
      "outputs": []
    },
    {
      "cell_type": "code",
      "metadata": {
        "id": "F1za9aWSEnIs"
      },
      "source": [
        "def fit(epochs,model,loss_fn,opt,train_dl,valid_dl,metric=None):\n",
        "  acc_arr=[]\n",
        "  for epoch in range(epochs):\n",
        "    for xb,yb in train_dl:\n",
        "      loss,_,_=loss_batch(model,loss_fn,xb,yb,opt)\n",
        "    result=evaluate(model,loss_fn,valid_dl,metric)\n",
        "    val_loss,total,val_metric=result\n",
        "\n",
        "    if metric is  None:\n",
        "      print(\"Epoch [{}/{}] , Loss: {:.4f}\".format(epoch+1,epochs,val_loss))\n",
        "    else:\n",
        "       print(\"Epoch [{}/{}] , Loss: {:.4f},{}:{:.4f}\".format(epoch+1,epochs,val_loss,metric.__name__,val_metric))\n",
        "       acc_arr.append(val_metric)\n",
        "  return acc_arr\n",
        "\n"
      ],
      "execution_count": 113,
      "outputs": []
    },
    {
      "cell_type": "code",
      "metadata": {
        "id": "JrzVJ30KGvDa"
      },
      "source": [
        "#redefine model\n",
        "model=MNISTModel()\n",
        "optimizer=torch.optim.SGD(model.parameters(),lr=learning_rate)\n"
      ],
      "execution_count": 114,
      "outputs": []
    },
    {
      "cell_type": "code",
      "metadata": {
        "colab": {
          "base_uri": "https://localhost:8080/"
        },
        "id": "HtGmUUi4HKia",
        "outputId": "5fe68dff-1e12-4b99-9406-d585183c7972"
      },
      "source": [
        "fit(5,model,f.cross_entropy,optimizer,train_loader,val_loader,accuracy)"
      ],
      "execution_count": 115,
      "outputs": [
        {
          "output_type": "stream",
          "text": [
            "Epoch [1/5] , Loss: 1.8641,accuracy:0.6668\n",
            "Epoch [2/5] , Loss: 1.5696,accuracy:0.7466\n",
            "Epoch [3/5] , Loss: 1.3623,accuracy:0.7743\n",
            "Epoch [4/5] , Loss: 1.2130,accuracy:0.7932\n",
            "Epoch [5/5] , Loss: 1.1020,accuracy:0.8075\n"
          ],
          "name": "stdout"
        },
        {
          "output_type": "execute_result",
          "data": {
            "text/plain": [
              "[0.6668333333333333,\n",
              " 0.7465833333333334,\n",
              " 0.7743333333333333,\n",
              " 0.7931666666666667,\n",
              " 0.8075]"
            ]
          },
          "metadata": {
            "tags": []
          },
          "execution_count": 115
        }
      ]
    },
    {
      "cell_type": "code",
      "metadata": {
        "colab": {
          "base_uri": "https://localhost:8080/"
        },
        "id": "URb_xWK6Hxax",
        "outputId": "7b7b5b9a-76a2-4408-d93b-eb1ce533c22a"
      },
      "source": [
        "accuracy=fit(15,model,f.cross_entropy,optimizer,train_loader,val_loader,accuracy)\n"
      ],
      "execution_count": 116,
      "outputs": [
        {
          "output_type": "stream",
          "text": [
            "Epoch [1/15] , Loss: 1.0167,accuracy:0.8169\n",
            "Epoch [2/15] , Loss: 0.9495,accuracy:0.8237\n",
            "Epoch [3/15] , Loss: 0.8951,accuracy:0.8311\n",
            "Epoch [4/15] , Loss: 0.8501,accuracy:0.8364\n",
            "Epoch [5/15] , Loss: 0.8124,accuracy:0.8407\n",
            "Epoch [6/15] , Loss: 0.7801,accuracy:0.8441\n",
            "Epoch [7/15] , Loss: 0.7522,accuracy:0.8460\n",
            "Epoch [8/15] , Loss: 0.7280,accuracy:0.8482\n",
            "Epoch [9/15] , Loss: 0.7065,accuracy:0.8508\n",
            "Epoch [10/15] , Loss: 0.6873,accuracy:0.8532\n",
            "Epoch [11/15] , Loss: 0.6702,accuracy:0.8546\n",
            "Epoch [12/15] , Loss: 0.6548,accuracy:0.8562\n",
            "Epoch [13/15] , Loss: 0.6408,accuracy:0.8574\n",
            "Epoch [14/15] , Loss: 0.6280,accuracy:0.8592\n",
            "Epoch [15/15] , Loss: 0.6162,accuracy:0.8602\n"
          ],
          "name": "stdout"
        }
      ]
    },
    {
      "cell_type": "code",
      "metadata": {
        "colab": {
          "base_uri": "https://localhost:8080/",
          "height": 312
        },
        "id": "SdNaXIqhH-fa",
        "outputId": "2fb219c2-c1c5-4add-b22f-76a2fb57bb69"
      },
      "source": [
        "plt.plot(accuracy,'-x')\n",
        "plt.xlabel('epoch')\n",
        "plt.ylabel('accuracy')\n",
        "plt.title('Accuracy v/s epoch')"
      ],
      "execution_count": 117,
      "outputs": [
        {
          "output_type": "execute_result",
          "data": {
            "text/plain": [
              "Text(0.5, 1.0, 'Accuracy v/s epoch')"
            ]
          },
          "metadata": {
            "tags": []
          },
          "execution_count": 117
        },
        {
          "output_type": "display_data",
          "data": {
            "image/png": "[encoded data removed]",
            "text/plain": [
              "<Figure size 432x288 with 1 Axes>"
            ]
          },
          "metadata": {
            "tags": [],
            "needs_background": "light"
          }
        }
      ]
    },
    {
      "cell_type": "markdown",
      "metadata": {
        "id": "uj_LwB_kJWbW"
      },
      "source": [
        "**TESTING**"
      ]
    },
    {
      "cell_type": "code",
      "metadata": {
        "id": "Vp-VK81LIz8C"
      },
      "source": [
        "test_dataset=MNIST(root='data/',\n",
        "                   train=False,\n",
        "                   transform=transforms.ToTensor())"
      ],
      "execution_count": 118,
      "outputs": []
    },
    {
      "cell_type": "code",
      "metadata": {
        "colab": {
          "base_uri": "https://localhost:8080/",
          "height": 298
        },
        "id": "cyLGFVYFpLDd",
        "outputId": "f28a0599-666a-4f08-b780-62651b494606"
      },
      "source": [
        "img,label=test_dataset[0]\n",
        "plt.imshow(img[0],cmap='gray')\n",
        "print(label)\n",
        "print(img.shape)"
      ],
      "execution_count": 120,
      "outputs": [
        {
          "output_type": "stream",
          "text": [
            "7\n",
            "torch.Size([1, 28, 28])\n"
          ],
          "name": "stdout"
        },
        {
          "output_type": "display_data",
          "data": {
            "image/png": "[encoded data removed]",
            "text/plain": [
              "<Figure size 432x288 with 1 Axes>"
            ]
          },
          "metadata": {
            "tags": [],
            "needs_background": "light"
          }
        }
      ]
    },
    {
      "cell_type": "code",
      "metadata": {
        "colab": {
          "base_uri": "https://localhost:8080/"
        },
        "id": "nw1UX3LepYIs",
        "outputId": "092ca410-117e-4be2-83cd-d5ae3eb59ecd"
      },
      "source": [
        "img.unsqueeze(0).shape\n",
        "#adds another dimension"
      ],
      "execution_count": 122,
      "outputs": [
        {
          "output_type": "execute_result",
          "data": {
            "text/plain": [
              "torch.Size([1, 1, 28, 28])"
            ]
          },
          "metadata": {
            "tags": []
          },
          "execution_count": 122
        }
      ]
    },
    {
      "cell_type": "code",
      "metadata": {
        "id": "Nlb3Okydpg0_"
      },
      "source": [
        "def predict_image(img,model):\n",
        "  xb=img.unsqueeze(0)\n",
        "  yb=model(xb)\n",
        "  _,pred=torch.max(yb,dim=1)\n",
        "  return pred[0].item()"
      ],
      "execution_count": 123,
      "outputs": []
    },
    {
      "cell_type": "code",
      "metadata": {
        "colab": {
          "base_uri": "https://localhost:8080/",
          "height": 298
        },
        "id": "9cQFxgLAp-tS",
        "outputId": "4619a567-267a-45e0-ef85-97d07bffe1c9"
      },
      "source": [
        "img,label=test_dataset[0]\n",
        "print(img.shape)\n",
        "plt.imshow(img[0],cmap='gray')\n",
        "print(\"Label: \",label,\"Predicted: \",predict_image(img,model))\n"
      ],
      "execution_count": 126,
      "outputs": [
        {
          "output_type": "stream",
          "text": [
            "torch.Size([1, 28, 28])\n",
            "Label:  7 Predicted:  7\n"
          ],
          "name": "stdout"
        },
        {
          "output_type": "display_data",
          "data": {
            "image/png": "[encoded data removed]",
            "text/plain": [
              "<Figure size 432x288 with 1 Axes>"
            ]
          },
          "metadata": {
            "tags": [],
            "needs_background": "light"
          }
        }
      ]
    },
    {
      "cell_type": "code",
      "metadata": {
        "colab": {
          "base_uri": "https://localhost:8080/",
          "height": 298
        },
        "id": "vLUjzOLTqSSh",
        "outputId": "1db107ec-f8a8-4a93-e113-7b5e72d9c937"
      },
      "source": [
        "img,label=test_dataset[10]\n",
        "print(img.shape)\n",
        "plt.imshow(img[0],cmap='gray')\n",
        "print(\"Label: \",label,\"Predicted: \",predict_image(img,model))"
      ],
      "execution_count": 127,
      "outputs": [
        {
          "output_type": "stream",
          "text": [
            "torch.Size([1, 28, 28])\n",
            "Label:  0 Predicted:  0\n"
          ],
          "name": "stdout"
        },
        {
          "output_type": "display_data",
          "data": {
            "image/png": "[encoded data removed]",
            "text/plain": [
              "<Figure size 432x288 with 1 Axes>"
            ]
          },
          "metadata": {
            "tags": [],
            "needs_background": "light"
          }
        }
      ]
    },
    {
      "cell_type": "code",
      "metadata": {
        "colab": {
          "base_uri": "https://localhost:8080/",
          "height": 298
        },
        "id": "2MQtxVGkqw0g",
        "outputId": "c1448c52-e33a-4c28-c5b7-5d5e505d031e"
      },
      "source": [
        "img,label=test_dataset[123]\n",
        "print(img.shape)\n",
        "plt.imshow(img[0],cmap='gray')\n",
        "print(\"Label: \",label,\"Predicted: \",predict_image(img,model))"
      ],
      "execution_count": 128,
      "outputs": [
        {
          "output_type": "stream",
          "text": [
            "torch.Size([1, 28, 28])\n",
            "Label:  6 Predicted:  6\n"
          ],
          "name": "stdout"
        },
        {
          "output_type": "display_data",
          "data": {
            "image/png": "[encoded data removed]",
            "text/plain": [
              "<Figure size 432x288 with 1 Axes>"
            ]
          },
          "metadata": {
            "tags": [],
            "needs_background": "light"
          }
        }
      ]
    },
    {
      "cell_type": "code",
      "metadata": {
        "colab": {
          "base_uri": "https://localhost:8080/",
          "height": 298
        },
        "id": "SHkuZCqPqzoM",
        "outputId": "7e1b4ad7-a165-4c42-979b-00ce3b033609"
      },
      "source": [
        "img,label=test_dataset[93]\n",
        "print(img.shape)\n",
        "plt.imshow(img[0],cmap='gray')\n",
        "print(\"Label: \",label,\"Predicted: \",predict_image(img,model))"
      ],
      "execution_count": 129,
      "outputs": [
        {
          "output_type": "stream",
          "text": [
            "torch.Size([1, 28, 28])\n",
            "Label:  3 Predicted:  3\n"
          ],
          "name": "stdout"
        },
        {
          "output_type": "display_data",
          "data": {
            "image/png": "[encoded data removed]",
            "text/plain": [
              "<Figure size 432x288 with 1 Axes>"
            ]
          },
          "metadata": {
            "tags": [],
            "needs_background": "light"
          }
        }
      ]
    },
    {
      "cell_type": "code",
      "metadata": {
        "colab": {
          "base_uri": "https://localhost:8080/",
          "height": 298
        },
        "id": "coCsVYS2q1l3",
        "outputId": "e65efb7c-bdf7-4a4a-889c-dbc625b72311"
      },
      "source": [
        "img,label=test_dataset[286]\n",
        "print(img.shape)\n",
        "plt.imshow(img[0],cmap='gray')\n",
        "print(\"Label: \",label,\"Predicted: \",predict_image(img,model))"
      ],
      "execution_count": 132,
      "outputs": [
        {
          "output_type": "stream",
          "text": [
            "torch.Size([1, 28, 28])\n",
            "Label:  6 Predicted:  6\n"
          ],
          "name": "stdout"
        },
        {
          "output_type": "display_data",
          "data": {
            "image/png": "[encoded data removed]",
            "text/plain": [
              "<Figure size 432x288 with 1 Axes>"
            ]
          },
          "metadata": {
            "tags": [],
            "needs_background": "light"
          }
        }
      ]
    },
    {
      "cell_type": "code",
      "metadata": {
        "colab": {
          "base_uri": "https://localhost:8080/"
        },
        "id": "U-fcb-jVq300",
        "outputId": "53f39eab-c5e4-4c96-e303-440b263249a8"
      },
      "source": [
        "test_loader=DataLoader(test_dataset,batch_size=200)\n",
        "test_loss,total,test_acc=evaluate(model,loss_fn,test_loader,metric=accuracy)\n",
        "print(\"Loss : {:.4f},Accuracy: {: .4f}\".format(test_loss,test_acc))"
      ],
      "execution_count": 143,
      "outputs": [
        {
          "output_type": "stream",
          "text": [
            "Loss : 0.5966,Accuracy:  0.8689\n"
          ],
          "name": "stdout"
        }
      ]
    },
    {
      "cell_type": "code",
      "metadata": {
        "colab": {
          "base_uri": "https://localhost:8080/"
        },
        "id": "eQTNcO9LrQ2p",
        "outputId": "9edfb449-e7ca-4bf3-ac36-fa706c81d04b"
      },
      "source": [
        "test_loss,total,test_acc=evaluate(model,loss_fn,test_loader,metric=accuracy)\n",
        "print(\"Loss : {:.4f},Accuracy: {: .4f}\".format(test_loss,test_acc))"
      ],
      "execution_count": 142,
      "outputs": [
        {
          "output_type": "stream",
          "text": [
            "Loss : 0.5966,Accuracy:  0.8689\n"
          ],
          "name": "stdout"
        }
      ]
    },
    {
      "cell_type": "code",
      "metadata": {
        "colab": {
          "base_uri": "https://localhost:8080/"
        },
        "id": "4Z6vyHMfsC25",
        "outputId": "358f4ebf-8388-477c-b896-859f5dc0722c"
      },
      "source": [
        "model.state_dict()"
      ],
      "execution_count": 145,
      "outputs": [
        {
          "output_type": "execute_result",
          "data": {
            "text/plain": [
              "OrderedDict([('linear.weight',\n",
              "              tensor([[-0.0091,  0.0040,  0.0308,  ..., -0.0180, -0.0227,  0.0153],\n",
              "                      [-0.0228, -0.0107,  0.0306,  ...,  0.0345, -0.0012,  0.0287],\n",
              "                      [ 0.0180, -0.0160, -0.0267,  ...,  0.0278, -0.0242,  0.0196],\n",
              "                      ...,\n",
              "                      [-0.0135,  0.0327,  0.0115,  ..., -0.0110, -0.0070,  0.0212],\n",
              "                      [-0.0269, -0.0308,  0.0071,  ...,  0.0320, -0.0085, -0.0117],\n",
              "                      [-0.0326,  0.0234,  0.0085,  ..., -0.0039, -0.0271,  0.0216]])),\n",
              "             ('linear.bias',\n",
              "              tensor([-3.8644e-02,  1.2494e-01,  9.1376e-03, -2.8956e-02,  3.6302e-02,\n",
              "                       2.7629e-02, -4.7529e-03,  8.5632e-02, -9.0751e-02, -2.4064e-05]))])"
            ]
          },
          "metadata": {
            "tags": []
          },
          "execution_count": 145
        }
      ]
    },
    {
      "cell_type": "code",
      "metadata": {
        "id": "R85HEeFhtUMA"
      },
      "source": [
        ""
      ],
      "execution_count": null,
      "outputs": []
    }
  ]
}